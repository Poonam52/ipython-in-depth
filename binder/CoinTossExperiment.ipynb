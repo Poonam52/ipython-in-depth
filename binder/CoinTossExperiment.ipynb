import random
import matplotlib.pyplot as plt
%matplotlib inline
from matplotlib.pyplot import figure

tosses=0; #initial tosses count 0
first_turn = ''
second_turn = ''
third_turn = ''
coin = ["head","tail"]
toss_bfr_continue_three_head = []
experiment_count = 0

while experiment_count !=1000:
    coin_side = random.choice(coin) 
    tosses +=1
    #For first three tosses
    if first_turn == '' and second_turn == '' and third_turn == '':
        first_turn = coin_side
    elif first_turn != '' and second_turn == '' and third_turn == '':
        second_turn = coin_side
    elif first_turn != '' and second_turn != '' and third_turn == '':
        third_turn = coin_side
    else :
        first_turn = second_turn
        second_turn= third_turn
        third_turn= coin_side
            
    #check constant three head
    if first_turn == 'head' and second_turn == 'head' and third_turn == 'head':
        toss_bfr_continue_three_head.append(tosses)
        tosses = 0 
        first_turn = ''
        second_turn = ''
        third_turn = ''
        experiment_count +=1

average_tosses = sum(toss_bfr_continue_three_head)  / len(toss_bfr_continue_three_head)
print("Avarage number of tosses before observe continues three heads : " + str(average_tosses))

figure(figsize=(12,6), dpi=80)
experiment_count = list(range(1,1001))
plt.plot(experiment_count,toss_bfr_continue_three_head)
plt.title('Experiment vs  Tosses before getting three heads')
plt.xlabel('Experiment number')
plt.ylabel('Tosses before Three heads')
plt.show()
        
        
    
    

